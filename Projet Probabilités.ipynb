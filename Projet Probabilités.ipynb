{
 "cells": [
  {
   "cell_type": "markdown",
   "metadata": {},
   "source": []
  },
  {
   "cell_type": "markdown",
   "metadata": {},
   "source": [
    "### Corrigé du Projet précédent :"
   ]
  },
  {
   "cell_type": "code",
   "execution_count": 9,
   "metadata": {},
   "outputs": [],
   "source": [
    "import numpy as np \n",
    "import matplotlib.pyplot as plt\n",
    "import scipy.stats as stats\n",
    "%matplotlib inline \n",
    "plt.rcParams[\"figure.figsize\"] = (3,3)\n",
    "from mpl_toolkits.mplot3d import Axes3D\n",
    "from scipy.integrate import solve_ivp\n",
    "\n",
    "def predict_euler_explicit(f, x0, dt, t0, tf):\n",
    "    t, x = t0, x0\n",
    "    while t < tf:\n",
    "        t_next, x_next = t + dt, x + dt * f(t,x)\n",
    "        t, x = t_next, x_next\n",
    "    return x\n",
    "\n",
    "\n",
    "#predict_euler_explicit = np.vectorize(predict_euler_explicit, excluded=['f',\"dt\",\"t0\",\"tf\"], signature = \"(),(m,n),(),(),()->(m,n)\")\n"
   ]
  },
  {
   "cell_type": "markdown",
   "metadata": {},
   "source": [
    "# Suivi de position en mer (suite probabiliste)\n",
    "\n",
    "Ce projet suit directement le travail réalisé dans le projet d'équations différentielles. Vous êtes libres d'utiliser la correction ou bien vos propres fonctions.\n",
    "L'objectif est d'illustrer comment les méthodes probabilistes vont nous permettre d'associer une incertitude aux variables d'état estimées, notamment lorsque les observations ne sont pas disponibles à la même fréquence temporelle que le pas de discrétisation du modèle numérique.\n",
    "\n",
    "## Filtrage de Kalman probabiliste\n",
    "\n",
    "On considère un modèle dynamique discret, dit *espace-état probabiliste* linéaire de la forme suivante :\n",
    "\\begin{align*}\n",
    "X_t &= A X_{t-1} + \\varepsilon_t\\\\\n",
    "Y_t &= B X_t + \\eta_t\n",
    "\\end{align*}\n",
    "où $X_t$ est un vecteur aléatoire de $\\mathbb{R}^n$ qui représente l'état du système au temps $t$, $\\varepsilon_t$ est un vecteur aléatoire de $\\mathbb{R}^n$ qui représente l'erreur de modélisation au temps $t$, $A$ est la matrice d'évolution ou de transition du système, $Y_t \\in \\mathbb{R}^d$ est l'observation au temps $t$, avec $B$ la matrice d'observation et $\\eta_t\\in \\mathbb{R}^d$ l'erreur d'observation au temps $t$. On suppose connue la loi de $X_0$ et que les erreurs sont indépendantes de l'état du système.\n",
    "\n",
    "La première équation sera dite d'évolution et la seconde d'observation. \n",
    "\n",
    "### Construction du filtre de Kalman probabiliste (cas linéaire)\n",
    "\n",
    "**Question 1.** Sous l'hypothèse que $\\varepsilon_t \\sim \\mathcal{N}(0,Q)$ et $\\eta_t\\sim\\mathcal{N}(0,R)$, avec $Q$ et $R$ des matrices symétriques définies positives, montrer qu'on peut réécrire ces deux équations sous la forme :\n",
    "\\begin{align*}\n",
    "X_t| X_{t-1} =x_{t-1} &\\sim \\mathcal{N}(A x_{t-1}, Q)\\\\\n",
    "Y_t| X_t= x_t &\\sim \\mathcal{N}(B x_t, R)\n",
    "\\end{align*}\n",
    "\n",
    "\n",
    "On rappelle qu'une combinaison linéaire de variables gaussiennes suit une loi gaussienne qui est entièrement déterminée par ses moments d'ordre 1 et 2 (espérance et matrice de covariance)."
   ]
  },
  {
   "attachments": {},
   "cell_type": "markdown",
   "metadata": {},
   "source": [
    "**Réponse 1 :**\n",
    "\n",
    "On a $X_t | (X_{t-1}=x_{t-1}) = Ax_{t-1} + \\varepsilon_t$. Ainsi $X_t | (X_{t-1}=x_{t-1})$ est un vecteur gaussien car combinaison linéaire de vecteurs gaussiens. Il suffit donc de calculer son espérance et sa matrice de covariance. \n",
    "\n",
    "\n",
    "Par linéarité de l'espérance,\n",
    "\n",
    "$$\\mathbb E [X_t | (X_{t-1} = x_{t-1})] = A\\mathbb E [x_{t-1}] + \\mathbb E [\\varepsilon_t] = Ax_{t-1}$$\n",
    "\n",
    "Quant au calcul de la matrice de covariance :\n",
    "\n",
    "\\begin{align*}\n",
    "\\mathbb V (X_t | (X_{t-1} = x_{t-1})) &= \\mathbb E [(X_t | (X_{t-1} = x_{t-1}) - \\mathbb E[X_t | (X_{t-1} = x_{t-1})])(X_t | (X_{t-1} = x_{t-1}) - \\mathbb E[X_t | (X_{t-1} = x_{t-1})])^T] \\\\\n",
    "&= \\mathbb E [(Ax_{t-1} + \\varepsilon_t - Ax_{t-1})(Ax_{t-1} + \\varepsilon_t - Ax_{t-1})^T] \\\\\n",
    "&= \\mathbb V (\\varepsilon_t) \\\\\n",
    "&= Q\n",
    "\\end{align*}\n",
    "\n",
    "Ce qui montre que $X_t| (X_{t-1} =x_{t-1})\\sim \\mathcal{N}(A x_{t-1}, Q)$.\n",
    "\n",
    "Le raisonnement est analogue pour montrer que $Y_t| X_t= x_t \\sim \\mathcal{N}(B x_t, R)$."
   ]
  },
  {
   "cell_type": "markdown",
   "metadata": {},
   "source": [
    "**Question 2.** En supposant que $X_0 \\sim \\mathcal{N}(m_0,P_0)$, montrer que \n",
    "\\begin{align*}\n",
    "X_1 &\\sim \\mathcal{N}(m_1 = A m_0,P_1 = A P_0 A^t + Q)\\\\ \n",
    "\\text{puis que } X_1|Y_1 = y_1 &\\sim \\mathcal{N}(m_1+P_1 B^t (B P_1 B^t +R)^{-1}(y_1 - B m_1),P_1 - P_1 B^t(B P_1 B^t +R)^{-1}B P_1).\n",
    "\\end{align*} \n",
    "On pourra exprimer la loi du vecteur $(X_1,Y_1)$."
   ]
  },
  {
   "attachments": {},
   "cell_type": "markdown",
   "metadata": {},
   "source": [
    "**Réponse 2 :**\n",
    "\n",
    "De même qu'en question 1, $X_1$ est un vecteur gaussien comme combinaison linéaire de vecteurs gaussiens, donc il est caractérisé par son espérance et sa matrice de covariance. On a :\n",
    "\n",
    "$$ \\mathbb E [X_1] = \\mathbb E[AX_0 + \\varepsilon_1] = Am_0$$\n",
    "\n",
    "$$\n",
    "\\begin{align*}\n",
    "\\mathbb V[X_1] &= \\mathbb E[(AX_0 + \\varepsilon_1 - Am_0)(AX_0 + \\varepsilon_1 - Am_0)^T] \\\\\n",
    "&= \\mathbb V[AX_0] + \\mathbb V[\\varepsilon_1] + \\mathbb E[(AX_0 - Am_0)\\varepsilon_1^T] + \\mathbb E[\\varepsilon_1(AX_0 - Am_0)^T] \\\\\n",
    "&= A\\mathbb V[X_0]A^T + Q \\\\\n",
    "&= AP_0A^T + Q\n",
    "\\end{align*}\n",
    "$$\n",
    "\n",
    "En effet, on a fait l'hypothèse que les erreurs étaient indépendantes de l'état du système, donc comme $\\epsilon_1$ est d'espérance nulle, les deux derniers termes sont nuls (on pourrait faire le calcul coefficient par coefficient, qui nous donnerait des produits d'espérance dont $E[\\varepsilon_1] = 0$).\n",
    "\n",
    "***CALCUL POUR $X_1 | Y_1 = y_1$ A FAIRE***\n",
    "\n"
   ]
  },
  {
   "cell_type": "markdown",
   "metadata": {},
   "source": [
    "On peut itérer le procédé et résumer comme suit les deux étapes du filtre de Kalman :\n",
    "\n",
    "* Etape de prédiction : \n",
    "\\begin{align*}\n",
    "m_t^p &= A m_{t-1} \\\\\n",
    "P_t^p &= A P_{t} A^t + Q\n",
    "\\end{align*}\n",
    "\n",
    "* Etape de mise à jour :\n",
    "\\begin{align*}\n",
    "m_t &= m_t^p+P_t^p B^t (B P_t^p B^t +R)^{-1}(y_1 - B m_t^p)\\\\\n",
    "P_t &= P_t^p - P_t^p B^t(B P_t^p B^t +R)^{-1}B P_t^p \\\\\n",
    "\\end{align*}\n",
    "\n",
    "Autrement dit, on fait d'abord évoluer le système selon sa dynamique, puis on le conditionne aux nouvelles observations. L'estimateur de l'état est donné par $m_t = \\mathbb{E}(X_t|X_{t-1} =x_{t-1},Y_t = y_t)$ qui est la meilleure approximation de $X_t$ au sens des moindres carrés sachant $X_{t-1} = x_{t-1}$ et $Y_t = y_{t-1}$ (voir chapitre 3 du cours de Probabilités).\n",
    "\n",
    "L'interprétation probabiliste nous permet en outre d'associer à cet estimateur la loi de probabilité $\\mathcal{N}(m_t,P_t)$.\n",
    "\n",
    "### Application au suivi de la trajectoire du bateau - Filtre de Kalman étendu\n",
    "\n",
    "Les développements ci-dessus permettent de donner une interprétation probabiliste aux résultats obtenus dans le projet d'équations différentielles. Dans le paragraphe précédent, nous avons décrit le filtre de Kalman dans le cas d'une dynamique linéaire. Dans le cas de la trajectoire du bateau cependant, l'évolution de la position est une fonction non-linéaire des composantes du vecteur d'état. Pour qu'il soit applicable, la version étendue du filtre de Kalman a été implémentée. On peut la résumer en les deux étapes suivantes :\n",
    "\n",
    "* Etape de prédiction : \n",
    "\\begin{align*}\n",
    "m_t^p &= f(t,m_{t-1}) \\\\\n",
    "P_t^p &= A_t P_{t-1} A_t^t + Q\n",
    "\\end{align*}\n",
    "\n",
    "* Etape de mise à jour :\n",
    "\\begin{align*}\n",
    "m_t &= m_t^p+P_t^p B^t (B P_t^p B^t +R)^{-1}(y_1 - B m_t^p)\\\\\n",
    "P_t &= P_t^p - P_t^p B^t(B P_t^p B^t +R)^{-1}B P_t^p \\\\\n",
    "\\end{align*}\n",
    "\n",
    "La différence avec le cas linéaire est que la dynamique est non linéaire cependant, pour propager les matrices de covariances et maintenir la loi gaussienne, la dynamique est linéarisée. Ainsi, on utilise\n",
    "\\begin{align*}\n",
    "A_t = \\frac{\\partial f}{\\partial x}(t,m_t) \\\\\n",
    "B_t = \\frac{\\partial h}{\\partial x}(t,m_t) \\\\\n",
    "\\end{align*}\n",
    "\n",
    "C'est le filtre de Kalman étendu qui a été implémenté dans le projet d'équations différentielles.\n",
    "\n",
    "**Question 3.** Interpréter les différentes quantités entrant dans la construction du filtre de Kalman étendu de manière probabiliste en précisant les hypothèses ou approximations effectuées. Proposer une \"zone\" de confiance à 95% autour du dernier point de la trajectoire. Que se passe-t-il lorsque le pas de discrétisation augmente ?"
   ]
  },
  {
   "cell_type": "code",
   "execution_count": null,
   "metadata": {},
   "outputs": [],
   "source": []
  },
  {
   "attachments": {},
   "cell_type": "markdown",
   "metadata": {},
   "source": []
  },
  {
   "attachments": {},
   "cell_type": "markdown",
   "metadata": {},
   "source": [
    "## Filtrage particulaire\n",
    "\n",
    "En raison de la contrainte ou de l'approximation linéaire imposée, l'emploi du filtre de Kalman est limitant lorsque la dynamique est fortement non linéaire et/ou lorsque la fréquence d'observation est faible en regard de la dynamique. On peut voir qu'il est en réalité une solution particulière au problème de filtrage bayésien que nous nous proposons maintenant d'étudier.\n",
    "\n",
    "### Filtrage bayésien\n",
    "\n",
    "On considère maintenant un modèle espace-état plus général de la forme suivante :\n",
    "\n",
    "\\begin{align*}\n",
    "X_t &= f(X_{t-1},\\varepsilon_t),\\\\\n",
    "Y_t &= h(X_t,\\eta_t),\n",
    "\\end{align*}\n",
    "\n",
    "avec les mêmes notations que dans la partie précédente. $f$ et $h$ représentent désormais respectivement une dynamique et une fonction d'observation possiblement non-linéaires. A noter que les erreurs ne sont plus nécessairement additives. De même que précédemment, on supposera que $X_0$ est de loi de probabilité connue. On suppose que tous les vecteurs aléatoires admettent des densités.\n",
    "\n",
    "On peut remarquer dans un premier temps que la loi de $X_t|X_{t-1} = x_{t-1}, \\ldots, X_0 = x_0$ est identique à la loi de $X_t|X_{t-1} = x_{t-1}$, en d'autres termes que la loi de $X_t$ sachant tous les points précédents de la trajectoire est entièrement caractérisée par la connaissance de $X_{t-1} = x_{t-1}$. En terme de densités de probabilités, on a :\n",
    "\\begin{equation*}\n",
    "f_{X_t|X_{t-1} = x_{t-1}, \\ldots, X_0 = x_0}(x) = f_{X_t|X_{t-1} = x_{t-1}}(x).\n",
    "\\end{equation*}\n",
    "On appelle cette propriété la *propriété de Markov*. De plus, de manière évidente, on a :\n",
    "\\begin{equation*}\n",
    "f_{Y_t|X_t = x_t, Y_{t-1} = y_{t-1}, \\ldots, Y_0 = y_0}(y) = f_{Y_t|X_t = x_t}(y),\n",
    "\\end{equation*}\n",
    "ce qui signifie que l'observation au temps $t$ est *conditionnellement indépendante* des observations passées, sachant $X_t = x_t$.\n",
    "\n",
    "Dans ce cadre, on va chercher à caractériser la loi de la séquence $X_{1:T} = (X_1,\\ldots,X_T)$ (la *trajectoire* de l'état du système), sachant les observations $Y_{1:T} = (Y_1,\\ldots,Y_T)$, où plus simplement la loi de l'état du système à l'instant $t$ $X_t$ sachant les observations $Y_{1:t}$.\n",
    "\n",
    "\n",
    "**Question 1.** En utilisant la propriété de Markov et la formule de Bayes, montrer que :\n",
    "\\begin{equation*}\n",
    "f_{X_{1:t}|Y_{1:t}=y_{1:t}}(x_{1:t}) = \\frac{f_{Y_t|X_t = x_t}(y_t) f_{X_t|X_{t-1}=x_{t-1}}(x_t)f_{X_{1:t-1}|Y_{1:t-1}=y_{1:t-1}}(x_{1:t-1})}{f_{Y_t|Y_{t-1} = y_{t-1}, \\ldots, Y_0 = y_0}(y_t)}\n",
    "\\end{equation*}\n",
    "\n",
    "Cette expression nous montre qu'on peut décomposer séquentiellement la loi conditionnelle de la trajectoire sachant les observations, autrement dit que l'on peut la mettre à jour itérativement."
   ]
  },
  {
   "attachments": {},
   "cell_type": "markdown",
   "metadata": {},
   "source": [
    "**Réponse 1 :**\n",
    "\n",
    "On applique la formule de Bayes :\n",
    "\n",
    "$$\n",
    "f_{X_{1:t}|Y_{1:t}=y_{1:t}}(x_{1:t}) = \\frac{f_{Y_{1:t}|X_{1:t}=x_{1:t}}(y_{1:t})f_{X_{1:t}}(x_{1:t})}{f_{Y_{1:t}}(y_{1:t})}\n",
    "$$\n",
    "\n",
    "Par définition de la densité conditionnelle, en décomposant les vecteurs aléatoires sous forme de couples,\n",
    "$$\n",
    "f_{Y_{1:t}|X_{1:t}=x_{1:t}}(y_{1:t}) = f_{Y_t|Y_{1:t-1}=y_{1:t-1},X_{1:t}=x_{1:t}}(y_t)f_{Y_{1:t-1}|X_{1:t}=x_{1:t}}(y_{1:t-1})\n",
    "$$\n",
    "et\n",
    "$$\n",
    "\\begin{align*}\n",
    "f_{X_{1:t}}(x_{1:t}) &= f_{X_t|X_{1:t-1}=x_{t-1}}(x_t)f_{x_{1:t-1}}(x_{1:t-1}) \\\\\n",
    "&= f_{X_t | X_{t-1}=x_{t-1}}(x_t)f_{X_{1:t-1}}(x_{1:t-1}) \\tag*{(Markov)}\n",
    "\\end{align*}\n",
    "$$\n",
    "\n",
    "et enfin de même, au dénominateur :\n",
    "\n",
    "$$\n",
    "f_{Y_{1:t}}(y_{1:t}) = f_{Y_t|Y_{1:t-1}=y_{1:t-1}}(y_t)f_{Y_{1:t-1}}(y_{1:t-1})\n",
    "$$\n",
    "\n",
    "D'où finalement :\n",
    "\n",
    "$$\n",
    "f_{X_{1:t}|Y_{1:t}=y_{1:t}}(x_{1:t}) = f_{Y_t|Y_{1:t-1}=y_{1:t-1},X_{1:t}=x_{1:t}}(y_t)\\frac{f_{X_t | X_{t-1}=x_{t-1}}(x_t)}{f_{Y_t|Y_{1:t-1}=y_{1:t-1}}(y_t)} \\frac{f_{Y_{1:t-1}|X_{1:t}=x_{1:t}}(y_{1:t-1})f_{X_{1:t-1}}(x_{1:t-1})}{f_{Y_{1:t-1}}(y_{1:t-1})}\n",
    "$$\n",
    "\n",
    "On laisse le deuxième terme intact.\n",
    "\n",
    "Pour le troisième terme, comme $Y_{1:t-1}$ est indépendante de $X_t$, on a :\n",
    "$$\n",
    "\\begin{align*}\n",
    "\\frac{f_{Y_{1:t-1}|X_{1:t}=x_{1:t}}(y_{1:t-1})f_{X_{1:t-1}}(x_{1:t-1})}{f_{Y_{1:t-1}}(y_{1:t-1})} &= \\frac{f_{Y_{1:t-1}|X_{1:t-1}=x_{1:t-1}}(y_{1:t-1})f_{X_{1:t-1}}(x_{1:t-1})}{f_{Y_{1:t-1}}(y_{1:t-1})} \\\\\n",
    "&= f_{X_{1:t-1}|Y_{1:t-1}=y_{1:t-1}}(x_{1:t-1}) \\tag*{(Bayes)}\n",
    "\\end{align*}\n",
    "$$\n",
    "\n",
    "Enfin, pour le premier terme, l'observation au temps $t$ est conditionnellement indépendante des observations passées sachant $X_t=x_t$, d'où $$f_{Y_t|Y_{1:t-1}=y_{1:t-1},X_{1:t}=x_{1:t}}(y_t)=f_{Y_t|X_{1:t}=x_{1:t}}(y_t)$$\n",
    "et enfin, comme la dépendance en $X$ de l'observation est entièrement capturée par $X_t$, elle est conditionnellement indépendante des états passés sachant $X_t=x_t$, d'où :\n",
    "$$f_{Y_t|X_{1:t}=x_{1:t}}(y_t) = f_{Y_t|X_t=x:t}(y_t)$$\n",
    "\n",
    "Soit finalement le résultat :\n",
    "$$\n",
    "\\boxed{f_{X_{1:t}|Y_{1:t}=y_{1:t}}(x_{1:t}) = \\frac{f_{Y_t|X_t = x_t}(y_t) f_{X_t|X_{t-1}=x_{t-1}}(x_t)f_{X_{1:t-1}|Y_{1:t-1}=y_{1:t-1}}(x_{1:t-1})}{f_{Y_t|Y_{t-1} = y_{t-1}, \\ldots, Y_1 = y_1}(y_t)}}\n",
    "$$"
   ]
  },
  {
   "cell_type": "markdown",
   "metadata": {},
   "source": [
    "\n",
    "**Question 2.** En déduire que pour tout $t \\in {1,\\ldots,T}$, on a \n",
    "\\begin{equation*}\n",
    "f_{X_t|Y_{1:t}=y_{1:t}}(x_t) = \\frac{f_{Y_t|X_t = x_t}(y_t) f_{X_t|Y_{1:t-1}=y_{1:t-1}}(x_t)}{f_{Y_t|Y_{t-1} = y_{t-1}, \\ldots, Y_0 = y_0}(y_t)},\n",
    "\\end{equation*}\n",
    "où\n",
    "\\begin{equation*}\n",
    "f_{X_t|Y_{1:t-1}=y_{1:t-1},}(x_t) = \\int f_{X_t|X_{t-1}=x_{t-1}}(x_t) f_{X_{t-1}|Y_{1:t-1}=y_{1:t-1}}(x_{t-1}) dx_{t-1}\n",
    "\\end{equation*}\n",
    "Cette expression nous indique que pour obtenir la loi conditionnelle de $X_t$ sachant toute les observations on peut procéder en deux étapes, de manière similaire à ce qui a été fait avec le filtre de Kalman :\n",
    " * propager la dynamique via $f(X_t|X_{t-1} = x_{t-1})$ (étape de prédiction)\n",
    " * conditionner le nouvel état à la nouvelle observation\n",
    "\n",
    "Malheureusement, dans la plupart des cas, la loi conditionnelle de la trajectoire sachant les observations n'admet pas d'expression analytique (sauf par exemple dans le cas linéaire vu plus haut), on va donc passer par des approximations numériques. En particulier, la constante de normalisation $f_{Y_t|Y_{t-1} = y_{t-1}, \\ldots, Y_0 = y_0}(y_t)$ (appelée ainsi car elle ne dépend pas de $X$), est généralement impossible à calculer.\n",
    "\n",
    "Le principe que nous allons mettre en oeuvre repose sur l'approximation des lois d'intérêt par une mesure empirique : si l'on génère $N$ variables aléatoires indépendantes $X^{(i)} \\sim \\mathbb{P}$ pour $i =1,\\ldots,N$, alors $\\mathbb{P} \\approx \\frac1N \\sum_{i=1}^N \\delta_{X_i}$, ce qui est justifiée par les théorèmes limites vus au chapitre 4.\n",
    "\n",
    "Nous allons implémenter une méthode de Monte-Carlo séquentielle, qui va tirer parti de l'expression établie plus haut, afin de caractériser (approximativement) les lois conditionnelles, en particulier la densité de filtrage $f_{X_t|Y_{1:t}=y_{1:t}}(x_t)$. Précisément, nous allons implémenter l'algorithme d'échantillonnage d'importance séquentiel, qui repose sur la technique d'échantillonnage d'importance décrite au chapitre 5 du cours de probabilités. Cet algorithme repose sur le choix d'une densité instrumentale qui va nous permettre de faire évoluer l'état du système tout en explorant différents états possibles, que nous allons noter $q_{X_t|X_{t-1} = x_{t-1}}(x_t)$. C'est ainsi une loi conditionnelle qui dépendra de l'état précédent. Idéalement, nous devrions propager l'état selon $f_{X_t|Y_t=y_t,X_{t-1}}(x_t)$ mais nous ne savons pas calculer cette quantité, d'où le recours à une densité instrumentale.\n",
    "\n",
    "L'idée de l'algorithme est que l'on va générer un ensemble de $N$ réalisations $x_t^{(i)}$ (appelées particules) de l'état du système que nous allons faire évoluer successivement selon la densité instrumentale et associer à chacune d'entre elle un poids d'importance de la forme suivante :\n",
    "\\begin{equation*}\n",
    "w(x_t^{(i)}) = \\frac{f_{Y_t|X_t = x_t}(y_t) f_{X_t|Y_{1:t-1}=y_{1:t-1}}(x_t)}{q_{X_t|X_{t-1} = x_{t-1}}(x_t)}\n",
    "\\end{equation*}\n",
    "\n",
    "Pour éviter de propager des particules de poids faible à chaque itération, nous effectuerons un rééchantillonnage (resampling) en tirant dans la loi de probabilité définie par les poids normalisés associés aux $x_t^{(i)}$, que l'on notera $(w(x_t^{(i)}),x_t^{(i)})$. Une fois ce rééchantillonnage effectué, les particules se voient affectés des poids tous égaux à $\\frac1N$.\n",
    "\n",
    "On peut résumer l'algorithme de la manière suivante :\n",
    "\n",
    " * générer $x^{(i)}_0$ selon la loi *a priori* (donnée) de l'état du système à $t=0$\n",
    " * pour $t= 1,\\ldots, T$\n",
    "    * générer $x^{(i)}_t$ selon $\\sim q_{X_t|X_{t-1} = x^{(i)}_{t-1}}$, $i = 1, \\ldots, N$\n",
    "    * calculer les poids $w(x^{(i)}_t) = \\frac{f_{Y_t|X_t = x^{(i)}_t}(y_t)f_{X_t|X_{t-1}=x^{(i)}_{t-1}}(x^{(i)}_t)}{q_{X_t|X_{t-1} = x^{(i)}_{t-1}}(x^{(i)}_t)}$\n",
    "    * calculer les poids normalisés $\\tilde{w}(^{(i)}_t)=\\frac{w(x^{(i)}_t)}{\\sum_{i=1}^N w(x^{(i)}_t)}$\n",
    "    * rééchantillonner $(w(x_t^{(i)}),x_t^{(i)})$ pour obtenir $N$ particules de poids égaux à $\\frac1N$\n"
   ]
  },
  {
   "cell_type": "markdown",
   "metadata": {},
   "source": [
    "### Implémentation du filtre particulaire\n",
    "\n",
    "Dans cette partie, on va implémenter le filtre particulaire proposé ci-dessus. On utilisera les mêmes données que pour le filtre de Kalman, ainsi que la dynamique que vous aurez codée dans le projet d'équations différentielles. La densité instrumentale $q$ que nous allons utiliser consistera à pertuber les états des composantes d'accélération (appelées *entrées faibles* dans le projet d'équations différentielles) puis à appliquer la dynamique jusqu'au prochain pas de temps d'observation. On supposera la dynamique parfaitement connue, autrement dit que $\\varepsilon_t = 0,~ \\forall t$, ce qui implique que $f_{X_t|X_{t-1}=x^{(i)}_{t-1}}(x^{(i)}_t) = 1$ et simplifie donc le calcul des poids d'importance.\n",
    "\n",
    "On commence par simuler une trajectoire de référence puis on l'échantillonne en *n_obs* pas de temps tout en ajoutant un bruit d'observation gaussien centré d'écart type 0.1."
   ]
  },
  {
   "cell_type": "code",
   "execution_count": 5,
   "metadata": {},
   "outputs": [],
   "source": [
    "import numpy as np \n",
    "import matplotlib.pyplot as plt\n",
    "from mpl_toolkits.mplot3d import Axes3D\n",
    "from scipy.integrate import solve_ivp\n",
    "import scipy.stats as sps\n",
    "np.random.seed(1234)"
   ]
  },
  {
   "cell_type": "code",
   "execution_count": 32,
   "metadata": {},
   "outputs": [],
   "source": [
    "def f_traj(t,x):\n",
    "    v = 2.0 \n",
    "    w = np.sin(t)\n",
    "    return np.array([v*np.cos(x[2]),v*np.sin(x[2]),w])\n",
    "\n",
    "# simulation d'une trajectoire continue à haute précision, que l'on considère exacte.\n",
    "x0 = np.array([0.0,0.0,0.0])\n",
    "t0, tf = 0.0, 20.0\n",
    "sol_traj = solve_ivp(fun = f_traj, t_span = [t0, tf], y0 = x0, dense_output=True, t_eval = np.arange(t0,tf,0.1), rtol=1e-4)"
   ]
  },
  {
   "cell_type": "code",
   "execution_count": 7,
   "metadata": {},
   "outputs": [
    {
     "data": {
      "image/png": "[encoded data removed]",
      "text/plain": [
       "<Figure size 640x480 with 1 Axes>"
      ]
     },
     "metadata": {},
     "output_type": "display_data"
    }
   ],
   "source": [
    "def y_traj(t):\n",
    "    # on sélectionne les deux premières composantes de la solution \"exacte\" au temps t : mesure de position exacte\n",
    "    return sol_traj.sol(t)[:2] \n",
    "\n",
    "n_obs = 40\n",
    "\n",
    "t_obs = np.linspace(0.5,20,n_obs)\n",
    "\n",
    "sigma_obs = 0.1\n",
    "\n",
    "y_obs = y_traj(t_obs)\n",
    "y_obs[0,:] = y_obs[0,:] + np.random.normal(0,sigma_obs,n_obs)\n",
    "y_obs[1,:] = y_obs[1,:] + np.random.normal(0,sigma_obs,n_obs)\n",
    "\n",
    "plt.plot(sol_traj.y[0],sol_traj.y[1])\n",
    "plt.scatter(y_obs[0],y_obs[1])\n",
    "plt.grid(True)\n",
    "plt.xlabel('$x_1$')\n",
    "plt.ylabel('$x_2$')\n",
    "plt.title('Trajectoire *exacte* et observations bruitées')\n",
    "plt.show()\n"
   ]
  },
  {
   "cell_type": "markdown",
   "metadata": {},
   "source": [
    "**Question 1. Initialisation et première itération.**\n",
    "\n",
    "Pour simplifier, on va considérer les composantes connues à $t=0$, soit un vecteur d'état de la forme $x_0 = (0,0,0,2,0)$. \n",
    "\n",
    "Initialiser l'ensemble des $N$ particules en $x_0$ et initialiser les poids à $\\frac1N$. Perturber les 2 dernières composantes en y additionnant une variable aléatoire gaussienne d'écart type 0.2 puis propager la trajectoire jusqu'au premier pas de temps d'observation en utilisant votre schéma d'Euler.\n",
    "\n",
    "Calculer les poids des particules et les normaliser.\n",
    "\n",
    "Rééchantillonner les particules.\n",
    "\n",
    "On pensera à stocker l'ensemble des trajectoires ainsi que les poids associés."
   ]
  },
  {
   "cell_type": "code",
   "execution_count": 75,
   "metadata": {},
   "outputs": [],
   "source": [
    "\n",
    "#   // !! \\\\ QUELLE FONCTION UTILISEE ( f_traj donne un résultat \"parfait\" , f_ext est parfait sur la composante x[2] avec np.sin(t))\n",
    "def f_traj(t,x):\n",
    "    v = 2.0 \n",
    "    w = np.sin(t)\n",
    "    return np.array([v*np.cos(x[2]),v*np.sin(x[2]),w,0,0])\n",
    "f_traj = np.vectorize(f_traj, excluded=['t'], signature = \"(),(m)->(m)\")\n",
    "\n",
    "def f_ext(t,x):\n",
    "    return np.array([x[3]*np.cos(x[2]),x[3]*np.sin(x[2]),np.sin(t),0,0])\n",
    "f_ext = np.vectorize(f_ext, excluded=['t'], signature = \"(),(m)->(m)\")\n",
    "\n",
    "\n",
    "# Paramètres\n",
    "x0 = np.array([0.0,0.0,0.,2.,0.0])\n",
    "N = 200\n",
    "t = t0\n",
    "dt = (tf - t0)/n_obs\n",
    "t = t0\n",
    "# Paramètres pour le calcul des poids\n",
    "density = stats.multivariate_normal.pdf\n",
    "cov_obs, cov_perturbations = (0.1**2)*np.eye(2), (0.2**2)*np.eye(2)"
   ]
  },
  {
   "cell_type": "code",
   "execution_count": 76,
   "metadata": {},
   "outputs": [],
   "source": [
    "# INITIALISATION DES PARTICULES\n",
    "# Initialisation\n",
    "particules = np.full((N,5),x0)\n",
    "poids = np.full((N), 1/N)\n",
    "\n",
    "# Bruit gaussien (écart-type = 0.2)\n",
    "particules[:,3:] += np.random.normal(loc = 0, scale = 0.2, size = (N,2))\n",
    "#print(\"bruit gaussien : \", particules)\n",
    "\n",
    "def one_step_euler_explicit(f, x0, dt, t0):\n",
    "    return x0+dt*f(t0,x0)\n",
    "one_step_euler_explicit = np.vectorize(one_step_euler_explicit, excluded=['f',\"dt\", \"t0\"], signature = \"(),(m, n),(),()->(m, n)\")"
   ]
  },
  {
   "cell_type": "code",
   "execution_count": 7,
   "metadata": {
    "scrolled": false
   },
   "outputs": [],
   "source": [
    "# 1 ETAPE DE L'ALGO\n",
    "\n",
    "# Propagation de la trajectoire\n",
    "particules = one_step_euler_explicit(f_ext, particules, dt, t)\n",
    "particules[:,:2] += np.random.normal(loc = 0, scale = 0.1, size = (N,2)) # bruit d'observation\n",
    "t += dt\n",
    "\n",
    "# Calcul des poids\n",
    "poids = np.array([density(x[:2] - f_traj(t,x)[:2], cov = cov_obs)/density(x[3:], cov = cov_perturbations) for x in particules])\n",
    "\n",
    "poids = poids/np.sum(poids)\n",
    "\n",
    "# Rééchantillonnage\n",
    "particules = particules[np.random.choice(particules.shape[0],size = N, p = poids), :]\n",
    "poids = np.full((N), 1/N)"
   ]
  },
  {
   "cell_type": "code",
   "execution_count": 79,
   "metadata": {},
   "outputs": [
    {
     "name": "stderr",
     "output_type": "stream",
     "text": [
      "C:\\Users\\matth\\AppData\\Local\\Temp\\ipykernel_21072\\3697489904.py:25: RuntimeWarning: divide by zero encountered in double_scalars\n",
      "  poids = np.array([density((x[:2] - y_obs[:, i]), cov = cov_obs)/density(x[3:] , cov = cov_perturbations) for x in particules]) # calcul des poids\n",
      "C:\\Users\\matth\\AppData\\Local\\Temp\\ipykernel_21072\\3697489904.py:26: RuntimeWarning: invalid value encountered in divide\n",
      "  poids = poids/np.sum(poids) # normalisation\n",
      "C:\\Users\\matth\\AppData\\Local\\Temp\\ipykernel_21072\\3697489904.py:25: RuntimeWarning: invalid value encountered in double_scalars\n",
      "  poids = np.array([density((x[:2] - y_obs[:, i]), cov = cov_obs)/density(x[3:] , cov = cov_perturbations) for x in particules]) # calcul des poids\n"
     ]
    },
    {
     "data": {
      "image/png": "[encoded data removed]",
      "text/plain": [
       "<Figure size 300x300 with 1 Axes>"
      ]
     },
     "metadata": {},
     "output_type": "display_data"
    }
   ],
   "source": [
    "# TEST \n",
    "# Initialisation\n",
    "N = 1000\n",
    "\n",
    "particules = np.full((N,5),x0)\n",
    "poids = np.full((N), 1/N)\n",
    "poids = np.asarray(poids).astype('float64')\n",
    "\n",
    "# Bruit gaussien (écart-type = 0.2)\n",
    "particules[:,3:] += np.random.normal(loc = 0, scale = 0.2, size = (N,2))\n",
    "\n",
    "#print(\"bruit gaussien : \", particules)\n",
    "\n",
    "plt.figure()\n",
    "n_step = n_obs\n",
    "avg_pos = np.zeros((n_step, 2))\n",
    "for i in range(n_step):\n",
    "    particules = one_step_euler_explicit(f_ext, particules, dt, t) # dynamique\n",
    "    particules[:,:2] += np.random.normal(loc = 0, scale = 0.1, size = (N,2)) # erreur d'observation\n",
    "    \n",
    "    # affichage de la pop de particules\n",
    "    plt.plot(particules[:,0],particules[:,1], linestyle =\"\", marker = \"o\", alpha = 0.05, color = \"blue\")#(i/n_step,0.,0.))\n",
    "    \n",
    "    # CALCUL DES POIDS // ! \\\\ FAUX\n",
    "    poids = np.array([density((x[:2] - y_obs[:, i]), cov = cov_obs)/density(x[3:] , cov = cov_perturbations) for x in particules]) # calcul des poids\n",
    "    poids = poids/np.sum(poids) # normalisation\n",
    "    poids = np.nan_to_num(poids)\n",
    "    poids[np.argmax(poids)] += 1 - np.sum(poids)\n",
    "\n",
    "    #print(poids.max()) # Pour visualiser les possibles dérives du nuage de points\n",
    "    \n",
    "    # échantillonnage\n",
    "    # activer le reechantillonnage donne des divergences => CALCUL DES POIDS FAUX\n",
    "    # l'échantillonnage ne pose pas de problème quand on utilise f_traj\n",
    "    particules = particules[np.random.choice(particules.shape[0],size = N, p = poids), :] # rééchantillonnage\n",
    "    \n",
    "    # REMISE A ZERO DES POIDS POUR LE CALCUL DE LA POSITION MOYENNE CAR LE CALCUL DES POIDS CI DESSUS EST FAUX\n",
    "    poids = np.full((N), 1/N) # remise à zéro des poids\n",
    "    avg_pos[i] = np.average(particules, weights = poids, axis = 0)[:2]\n",
    "    \n",
    "    \n",
    "    particules[:,3:] += np.random.normal(loc = 0, scale = 0.2, size = (N,2)) # perturbations des accélérations\n",
    "    #print(particules)\n",
    "    \n",
    "    t += dt\n",
    "\n",
    "plt.plot(avg_pos[:,0], avg_pos[:,1], color = \"red\")\n",
    "\n",
    "\n",
    "# AFFICHAGE DE LA TRAJ THEORIQUE\n",
    "y_obs = y_traj(t_obs)\n",
    "y_obs[0,:] = y_obs[0,:] + np.random.normal(0,sigma_obs,n_obs)\n",
    "y_obs[1,:] = y_obs[1,:] + np.random.normal(0,sigma_obs,n_obs)\n",
    "plt.plot(sol_traj.y[0],sol_traj.y[1], color = \"green\")\n",
    "\n",
    "plt.show()\n"
   ]
  },
  {
   "cell_type": "markdown",
   "metadata": {},
   "source": [
    "**Question 2. Implémentation complète** \n",
    "\n",
    "Itérer le procédé jusqu'au dernier pas de temps d'observation, $T=20$. (conseil : commencer par implémenter un code avec un nombre de particules assez faible, disons 100 et un nombre de pas d'observation réduit puis augmenter les 2 progressivement pour travailler au final avec plusieurs milliers de particules. Augmenter le nombre de particules permet d'éviter ou au moins de retarder la dégénérescence du nuage de points, c'est-à-dire le fait d'avoir uniquement des poids faibles ce qui rend le rééchantillonnage inopérant.) Représenter le nuage de points final ainsi que la dernière observation."
   ]
  },
  {
   "cell_type": "markdown",
   "metadata": {},
   "source": [
    "**Question 3. Représentation graphique** \n",
    "\n",
    "Représenter la trajectoire de référence, la trajectoire moyenne (cf. **np.average**) ainsi que les trajectoires correspondant aux quantiles à 2,5% et 97,5% de chacune des composantes, en tenant bien compte des poids associés. Pour calculer les quantiles d'un échantillon pondéré, on pourra se tourner vers des ressources disponibles en ligne. Commenter."
   ]
  },
  {
   "cell_type": "markdown",
   "metadata": {},
   "source": [
    "**Question 4. Prédiction** \n",
    "\n",
    "Propager les particules jusqu'au temps 21. Les représenter graphiquement. Commenter."
   ]
  },
  {
   "cell_type": "markdown",
   "metadata": {},
   "source": [
    "**Question 5. Limitations**\n",
    "\n",
    "Essayer différentes valeurs d'écarts types d'observation et de perturbation. Commenter."
   ]
  },
  {
   "cell_type": "markdown",
   "metadata": {},
   "source": [
    "**Question 6. Amélioration de la loi instrumentale (facultatif)** \n",
    "\n",
    "Les performances du filtre particulaire dépendent beaucoup du choix de la densité instrumentale employée. Nous l'avons implémenté avec une simple perturbation des accélérations sans tenir compte de l'observation suivante. Une possibilité est de propager la trajectoire selon le filtre de Kalman étendu entre chacune des observations. Il faudra pour ce faire modifier le code implémenté dans le projet d'équations différentielles pour tenir compte du fait que l'observation n'est pas disponible en chaque pas de temps de discrétisation."
   ]
  }
 ],
 "metadata": {
  "kernelspec": {
   "display_name": "Python 3 (ipykernel)",
   "language": "python",
   "name": "python3"
  },
  "language_info": {
   "codemirror_mode": {
    "name": "ipython",
    "version": 3
   },
   "file_extension": ".py",
   "mimetype": "text/x-python",
   "name": "python",
   "nbconvert_exporter": "python",
   "pygments_lexer": "ipython3",
   "version": "3.9.12"
  },
  "vscode": {
   "interpreter": {
    "hash": "916dbcbb3f70747c44a77c7bcd40155683ae19c65e1c03b4aa3499c5328201f1"
   }
  }
 },
 "nbformat": 4,
 "nbformat_minor": 2
}
